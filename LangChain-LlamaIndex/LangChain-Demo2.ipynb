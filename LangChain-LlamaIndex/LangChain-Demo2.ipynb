{
 "cells": [
  {
   "cell_type": "code",
   "execution_count": null,
   "metadata": {
    "execution": {
     "iopub.execute_input": "2024-12-28T08:33:13.103914Z",
     "iopub.status.busy": "2024-12-28T08:33:13.103584Z",
     "iopub.status.idle": "2024-12-28T08:33:13.675793Z",
     "shell.execute_reply": "2024-12-28T08:33:13.674592Z",
     "shell.execute_reply.started": "2024-12-28T08:33:13.103885Z"
    },
    "trusted": true
   },
   "outputs": [],
   "source": [
    "!mkdir data\n",
    "!cp /kaggle/input/avinash-resume/Avinash_Resume.pdf ./data/Pdf1.pdf\n",
    "!cp /kaggle/input/pdf-data/AU\\ FS.pdf ./data/Pdf2.pdf\n",
    "!cp /kaggle/input/pdf-data/Git-Cheat-Sheet.pdf ./data/Pdf3.pdf"
   ]
  },
  {
   "cell_type": "markdown",
   "metadata": {},
   "source": [
    "# Mistral"
   ]
  },
  {
   "cell_type": "code",
   "execution_count": null,
   "metadata": {
    "execution": {
     "iopub.execute_input": "2024-12-28T08:33:13.677831Z",
     "iopub.status.busy": "2024-12-28T08:33:13.677464Z",
     "iopub.status.idle": "2024-12-28T08:36:28.647543Z",
     "shell.execute_reply": "2024-12-28T08:36:28.646699Z",
     "shell.execute_reply.started": "2024-12-28T08:33:13.677799Z"
    },
    "trusted": true
   },
   "outputs": [],
   "source": [
    "!pip install -q pypdf transformers einops accelerate langchain bitsandbytes sentence_transformers llama-index==0.9.39 langchain-community\n",
    "!pip install -Uq bitsandbytes torch transformers"
   ]
  },
  {
   "cell_type": "code",
   "execution_count": null,
   "metadata": {
    "execution": {
     "iopub.execute_input": "2024-12-28T08:36:28.649827Z",
     "iopub.status.busy": "2024-12-28T08:36:28.649535Z",
     "iopub.status.idle": "2024-12-28T08:36:32.753135Z",
     "shell.execute_reply": "2024-12-28T08:36:32.752470Z",
     "shell.execute_reply.started": "2024-12-28T08:36:28.649805Z"
    },
    "trusted": true
   },
   "outputs": [],
   "source": [
    "from llama_index import VectorStoreIndex, SimpleDirectoryReader, ServiceContext\n",
    "from llama_index.llms import HuggingFaceLLM\n",
    "from llama_index.prompts.prompts import SimpleInputPrompt"
   ]
  },
  {
   "cell_type": "code",
   "execution_count": null,
   "metadata": {
    "execution": {
     "iopub.execute_input": "2024-12-28T08:36:32.754574Z",
     "iopub.status.busy": "2024-12-28T08:36:32.754212Z",
     "iopub.status.idle": "2024-12-28T08:36:37.769812Z",
     "shell.execute_reply": "2024-12-28T08:36:37.768870Z",
     "shell.execute_reply.started": "2024-12-28T08:36:32.754537Z"
    },
    "trusted": true
   },
   "outputs": [],
   "source": [
    "documents = SimpleDirectoryReader('./data').load_data()\n",
    "documents[0]"
   ]
  },
  {
   "cell_type": "code",
   "execution_count": null,
   "metadata": {
    "execution": {
     "iopub.execute_input": "2024-12-28T08:36:37.771054Z",
     "iopub.status.busy": "2024-12-28T08:36:37.770521Z",
     "iopub.status.idle": "2024-12-28T08:36:37.774874Z",
     "shell.execute_reply": "2024-12-28T08:36:37.774037Z",
     "shell.execute_reply.started": "2024-12-28T08:36:37.771020Z"
    },
    "trusted": true
   },
   "outputs": [],
   "source": [
    "prompt = \"\"\"You are a Q&A assisstant. Your goal is to answer questions as accurately as possible based on the instructions and context provided.\"\"\"\n",
    "\n",
    "query_wrapper_prompt = SimpleInputPrompt(\"<|USER|>{query_str}<|ASSISTANT|>\")"
   ]
  },
  {
   "cell_type": "code",
   "execution_count": null,
   "metadata": {
    "execution": {
     "iopub.execute_input": "2024-12-28T08:36:37.776049Z",
     "iopub.status.busy": "2024-12-28T08:36:37.775797Z",
     "iopub.status.idle": "2024-12-28T08:36:37.975684Z",
     "shell.execute_reply": "2024-12-28T08:36:37.974772Z",
     "shell.execute_reply.started": "2024-12-28T08:36:37.776025Z"
    },
    "trusted": true
   },
   "outputs": [],
   "source": [
    "from huggingface_hub import notebook_login\n",
    "notebook_login()"
   ]
  },
  {
   "cell_type": "code",
   "execution_count": null,
   "metadata": {
    "execution": {
     "iopub.execute_input": "2024-12-28T08:42:24.119044Z",
     "iopub.status.busy": "2024-12-28T08:42:24.118663Z",
     "iopub.status.idle": "2024-12-28T08:42:25.686601Z",
     "shell.execute_reply": "2024-12-28T08:42:25.684987Z",
     "shell.execute_reply.started": "2024-12-28T08:42:24.119017Z"
    },
    "trusted": true
   },
   "outputs": [],
   "source": [
    "import torch\n",
    "\n",
    "llm = HuggingFaceLLM(\n",
    "    context_window=512,#input size\n",
    "    max_new_tokens=256,#output token\n",
    "    generate_kwargs={'temperature':0.0, \"do_sample\":False},\n",
    "    system_prompt=prompt,\n",
    "    query_wrapper_prompt = query_wrapper_prompt,\n",
    "    tokenizer_name='mistralai/Mistral-7B-Instruct-v0.1',\n",
    "    model_name='mistralai/Mistral-7B-Instruct-v0.1',\n",
    "    device_map='cuda',\n",
    "    model_kwargs={'torch_dtype':torch.float16, \"load_in_8bit\":True}\n",
    ")"
   ]
  },
  {
   "cell_type": "code",
   "execution_count": null,
   "metadata": {
    "execution": {
     "iopub.status.busy": "2024-12-28T08:42:25.687113Z",
     "iopub.status.idle": "2024-12-28T08:42:25.687369Z",
     "shell.execute_reply": "2024-12-28T08:42:25.687261Z"
    },
    "trusted": true
   },
   "outputs": [],
   "source": [
    "from langchain.embeddings.huggingface import HuggingFaceEmbeddings\n",
    "from llama_index import ServiceContext\n",
    "from llama_index.embeddings import LangchainEmbedding\n",
    "\n",
    "embed_model = LangchainEmbedding(HuggingFaceEmbeddings(model_name='sentence-transformers/all-mpnet-base-v2'))"
   ]
  },
  {
   "cell_type": "code",
   "execution_count": null,
   "metadata": {
    "execution": {
     "iopub.status.busy": "2024-12-28T08:42:25.688066Z",
     "iopub.status.idle": "2024-12-28T08:42:25.688476Z",
     "shell.execute_reply": "2024-12-28T08:42:25.688284Z"
    },
    "trusted": true
   },
   "outputs": [],
   "source": [
    "service_context = ServiceContext.from_defaults(chunk_size=512, llm=llm, embed_model=embed_model)"
   ]
  },
  {
   "cell_type": "code",
   "execution_count": null,
   "metadata": {
    "execution": {
     "iopub.status.busy": "2024-12-28T08:42:25.689303Z",
     "iopub.status.idle": "2024-12-28T08:42:25.689678Z",
     "shell.execute_reply": "2024-12-28T08:42:25.689516Z"
    },
    "trusted": true
   },
   "outputs": [],
   "source": [
    "index = VectorStoreIndex.from_documents(documents, service_context=service_context)"
   ]
  },
  {
   "cell_type": "code",
   "execution_count": null,
   "metadata": {
    "execution": {
     "iopub.status.busy": "2024-12-28T08:42:25.690822Z",
     "iopub.status.idle": "2024-12-28T08:42:25.691080Z",
     "shell.execute_reply": "2024-12-28T08:42:25.690978Z"
    },
    "trusted": true
   },
   "outputs": [],
   "source": [
    "query_engine = index.as_query_engine()"
   ]
  },
  {
   "cell_type": "code",
   "execution_count": null,
   "metadata": {
    "execution": {
     "iopub.status.busy": "2024-12-28T08:42:25.691988Z",
     "iopub.status.idle": "2024-12-28T08:42:25.692304Z",
     "shell.execute_reply": "2024-12-28T08:42:25.692186Z"
    },
    "trusted": true
   },
   "outputs": [],
   "source": [
    "response = query_engine.query(\"Who is Avinash?\")\n",
    "print(response)"
   ]
  }
 ],
 "metadata": {
  "kaggle": {
   "accelerator": "gpu",
   "dataSources": [
    {
     "datasetId": 6386951,
     "sourceId": 10316665,
     "sourceType": "datasetVersion"
    },
    {
     "datasetId": 6379840,
     "sourceId": 10306309,
     "sourceType": "datasetVersion"
    }
   ],
   "dockerImageVersionId": 30823,
   "isGpuEnabled": true,
   "isInternetEnabled": true,
   "language": "python",
   "sourceType": "notebook"
  },
  "kernelspec": {
   "display_name": "Python 3",
   "language": "python",
   "name": "python3"
  },
  "language_info": {
   "codemirror_mode": {
    "name": "ipython",
    "version": 3
   },
   "file_extension": ".py",
   "mimetype": "text/x-python",
   "name": "python",
   "nbconvert_exporter": "python",
   "pygments_lexer": "ipython3",
   "version": "3.10.12"
  }
 },
 "nbformat": 4,
 "nbformat_minor": 4
}
