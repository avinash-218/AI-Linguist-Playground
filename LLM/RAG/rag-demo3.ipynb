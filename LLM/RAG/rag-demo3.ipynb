{
 "cells": [
  {
   "cell_type": "code",
   "execution_count": 1,
   "metadata": {
    "collapsed": true,
    "execution": {
     "iopub.execute_input": "2024-12-26T19:46:03.488463Z",
     "iopub.status.busy": "2024-12-26T19:46:03.488172Z",
     "iopub.status.idle": "2024-12-26T19:46:49.032670Z",
     "shell.execute_reply": "2024-12-26T19:46:49.031700Z",
     "shell.execute_reply.started": "2024-12-26T19:46:03.488435Z"
    },
    "jupyter": {
     "outputs_hidden": true
    },
    "trusted": true
   },
   "outputs": [
    {
     "name": "stdout",
     "output_type": "stream",
     "text": [
      "\u001b[2K     \u001b[90m━━━━━━━━━━━━━━━━━━━━━━━━━━━━━━━━━━━━━━━━\u001b[0m \u001b[32m981.5/981.5 kB\u001b[0m \u001b[31m23.2 MB/s\u001b[0m eta \u001b[36m0:00:00\u001b[0m00:01\u001b[0m\n",
      "\u001b[?25h  Preparing metadata (setup.py) ... \u001b[?25l\u001b[?25hdone\n",
      "\u001b[2K     \u001b[90m━━━━━━━━━━━━━━━━━━━━━━━━━━━━━━━━━━━━━━━━\u001b[0m \u001b[32m67.3/67.3 kB\u001b[0m \u001b[31m3.7 MB/s\u001b[0m eta \u001b[36m0:00:00\u001b[0m\n",
      "\u001b[?25h  Installing build dependencies ... \u001b[?25l\u001b[?25hdone\n",
      "  Getting requirements to build wheel ... \u001b[?25l\u001b[?25hdone\n",
      "  Preparing metadata (pyproject.toml) ... \u001b[?25l\u001b[?25hdone\n",
      "\u001b[2K     \u001b[90m━━━━━━━━━━━━━━━━━━━━━━━━━━━━━━━━━━━━━━━━\u001b[0m \u001b[32m41.8/41.8 kB\u001b[0m \u001b[31m2.5 MB/s\u001b[0m eta \u001b[36m0:00:00\u001b[0m\n",
      "\u001b[2K   \u001b[90m━━━━━━━━━━━━━━━━━━━━━━━━━━━━━━━━━━━━━━━━\u001b[0m \u001b[32m1.0/1.0 MB\u001b[0m \u001b[31m43.4 MB/s\u001b[0m eta \u001b[36m0:00:00\u001b[0m\n",
      "\u001b[2K   \u001b[90m━━━━━━━━━━━━━━━━━━━━━━━━━━━━━━━━━━━━━━━━\u001b[0m \u001b[32m2.5/2.5 MB\u001b[0m \u001b[31m69.7 MB/s\u001b[0m eta \u001b[36m0:00:00\u001b[0m:00:01\u001b[0m\n",
      "\u001b[2K   \u001b[90m━━━━━━━━━━━━━━━━━━━━━━━━━━━━━━━━━━━━━━━━\u001b[0m \u001b[32m41.3/41.3 kB\u001b[0m \u001b[31m2.7 MB/s\u001b[0m eta \u001b[36m0:00:00\u001b[0m\n",
      "\u001b[2K   \u001b[90m━━━━━━━━━━━━━━━━━━━━━━━━━━━━━━━━━━━━━━━━\u001b[0m \u001b[32m209.2/209.2 kB\u001b[0m \u001b[31m13.9 MB/s\u001b[0m eta \u001b[36m0:00:00\u001b[0m\n",
      "\u001b[2K   \u001b[90m━━━━━━━━━━━━━━━━━━━━━━━━━━━━━━━━━━━━━━━━\u001b[0m \u001b[32m268.8/268.8 kB\u001b[0m \u001b[31m18.4 MB/s\u001b[0m eta \u001b[36m0:00:00\u001b[0m\n",
      "\u001b[2K   \u001b[90m━━━━━━━━━━━━━━━━━━━━━━━━━━━━━━━━━━━━━━━━\u001b[0m \u001b[32m1.7/1.7 MB\u001b[0m \u001b[31m58.8 MB/s\u001b[0m eta \u001b[36m0:00:00\u001b[0m\n",
      "\u001b[2K   \u001b[90m━━━━━━━━━━━━━━━━━━━━━━━━━━━━━━━━━━━━━━━━\u001b[0m \u001b[32m628.3/628.3 kB\u001b[0m \u001b[31m34.4 MB/s\u001b[0m eta \u001b[36m0:00:00\u001b[0m\n",
      "\u001b[2K   \u001b[90m━━━━━━━━━━━━━━━━━━━━━━━━━━━━━━━━━━━━━━━━\u001b[0m \u001b[32m2.4/2.4 MB\u001b[0m \u001b[31m66.2 MB/s\u001b[0m eta \u001b[36m0:00:00\u001b[0m:00:01\u001b[0m\n",
      "\u001b[2K   \u001b[90m━━━━━━━━━━━━━━━━━━━━━━━━━━━━━━━━━━━━━━━━\u001b[0m \u001b[32m94.8/94.8 kB\u001b[0m \u001b[31m6.5 MB/s\u001b[0m eta \u001b[36m0:00:00\u001b[0m\n",
      "\u001b[2K   \u001b[90m━━━━━━━━━━━━━━━━━━━━━━━━━━━━━━━━━━━━━━━━\u001b[0m \u001b[32m160.8/160.8 kB\u001b[0m \u001b[31m11.7 MB/s\u001b[0m eta \u001b[36m0:00:00\u001b[0m\n",
      "\u001b[2K   \u001b[90m━━━━━━━━━━━━━━━━━━━━━━━━━━━━━━━━━━━━━━━━\u001b[0m \u001b[32m760.0/760.0 kB\u001b[0m \u001b[31m37.0 MB/s\u001b[0m eta \u001b[36m0:00:00\u001b[0m\n",
      "\u001b[2K   \u001b[90m━━━━━━━━━━━━━━━━━━━━━━━━━━━━━━━━━━━━━━━━\u001b[0m \u001b[32m411.6/411.6 kB\u001b[0m \u001b[31m25.9 MB/s\u001b[0m eta \u001b[36m0:00:00\u001b[0m\n",
      "\u001b[2K   \u001b[90m━━━━━━━━━━━━━━━━━━━━━━━━━━━━━━━━━━━━━━━━\u001b[0m \u001b[32m325.7/325.7 kB\u001b[0m \u001b[31m25.3 MB/s\u001b[0m eta \u001b[36m0:00:00\u001b[0m\n",
      "\u001b[2K   \u001b[90m━━━━━━━━━━━━━━━━━━━━━━━━━━━━━━━━━━━━━━━━\u001b[0m \u001b[32m274.9/274.9 kB\u001b[0m \u001b[31m18.8 MB/s\u001b[0m eta \u001b[36m0:00:00\u001b[0m\n",
      "\u001b[2K   \u001b[90m━━━━━━━━━━━━━━━━━━━━━━━━━━━━━━━━━━━━━━━━\u001b[0m \u001b[32m3.1/3.1 MB\u001b[0m \u001b[31m82.8 MB/s\u001b[0m eta \u001b[36m0:00:00\u001b[0m:00:01\u001b[0m\n",
      "\u001b[2K   \u001b[90m━━━━━━━━━━━━━━━━━━━━━━━━━━━━━━━━━━━━━━━━\u001b[0m \u001b[32m62.9/62.9 kB\u001b[0m \u001b[31m4.5 MB/s\u001b[0m eta \u001b[36m0:00:00\u001b[0m\n",
      "\u001b[2K   \u001b[90m━━━━━━━━━━━━━━━━━━━━━━━━━━━━━━━━━━━━━━━━\u001b[0m \u001b[32m278.6/278.6 kB\u001b[0m \u001b[31m17.4 MB/s\u001b[0m eta \u001b[36m0:00:00\u001b[0m\n",
      "\u001b[2K   \u001b[90m━━━━━━━━━━━━━━━━━━━━━━━━━━━━━━━━━━━━━━━━\u001b[0m \u001b[32m73.5/73.5 kB\u001b[0m \u001b[31m4.9 MB/s\u001b[0m eta \u001b[36m0:00:00\u001b[0m\n",
      "\u001b[2K   \u001b[90m━━━━━━━━━━━━━━━━━━━━━━━━━━━━━━━━━━━━━━━━\u001b[0m \u001b[32m78.6/78.6 kB\u001b[0m \u001b[31m6.1 MB/s\u001b[0m eta \u001b[36m0:00:00\u001b[0m\n",
      "\u001b[2K   \u001b[90m━━━━━━━━━━━━━━━━━━━━━━━━━━━━━━━━━━━━━━━━\u001b[0m \u001b[32m1.9/1.9 MB\u001b[0m \u001b[31m65.6 MB/s\u001b[0m eta \u001b[36m0:00:00\u001b[0m\n",
      "\u001b[2K   \u001b[90m━━━━━━━━━━━━━━━━━━━━━━━━━━━━━━━━━━━━━━━━\u001b[0m \u001b[32m93.2/93.2 kB\u001b[0m \u001b[31m5.9 MB/s\u001b[0m eta \u001b[36m0:00:00\u001b[0m\n",
      "\u001b[2K   \u001b[90m━━━━━━━━━━━━━━━━━━━━━━━━━━━━━━━━━━━━━━━━\u001b[0m \u001b[32m13.3/13.3 MB\u001b[0m \u001b[31m103.8 MB/s\u001b[0m eta \u001b[36m0:00:00\u001b[0m00:01\u001b[0m0:01\u001b[0m\n",
      "\u001b[2K   \u001b[90m━━━━━━━━━━━━━━━━━━━━━━━━━━━━━━━━━━━━━━━━\u001b[0m \u001b[32m52.5/52.5 kB\u001b[0m \u001b[31m3.9 MB/s\u001b[0m eta \u001b[36m0:00:00\u001b[0m\n",
      "\u001b[2K   \u001b[90m━━━━━━━━━━━━━━━━━━━━━━━━━━━━━━━━━━━━━━━━\u001b[0m \u001b[32m149.7/149.7 kB\u001b[0m \u001b[31m9.9 MB/s\u001b[0m eta \u001b[36m0:00:00\u001b[0m\n",
      "\u001b[2K   \u001b[90m━━━━━━━━━━━━━━━━━━━━━━━━━━━━━━━━━━━━━━━━\u001b[0m \u001b[32m64.0/64.0 kB\u001b[0m \u001b[31m4.6 MB/s\u001b[0m eta \u001b[36m0:00:00\u001b[0m\n",
      "\u001b[2K   \u001b[90m━━━━━━━━━━━━━━━━━━━━━━━━━━━━━━━━━━━━━━━━\u001b[0m \u001b[32m110.5/110.5 kB\u001b[0m \u001b[31m7.8 MB/s\u001b[0m eta \u001b[36m0:00:00\u001b[0m\n",
      "\u001b[2K   \u001b[90m━━━━━━━━━━━━━━━━━━━━━━━━━━━━━━━━━━━━━━━━\u001b[0m \u001b[32m131.3/131.3 kB\u001b[0m \u001b[31m9.6 MB/s\u001b[0m eta \u001b[36m0:00:00\u001b[0m\n",
      "\u001b[2K   \u001b[90m━━━━━━━━━━━━━━━━━━━━━━━━━━━━━━━━━━━━━━━━\u001b[0m \u001b[32m54.8/54.8 kB\u001b[0m \u001b[31m3.6 MB/s\u001b[0m eta \u001b[36m0:00:00\u001b[0m\n",
      "\u001b[2K   \u001b[90m━━━━━━━━━━━━━━━━━━━━━━━━━━━━━━━━━━━━━━━━\u001b[0m \u001b[32m54.5/54.5 kB\u001b[0m \u001b[31m3.8 MB/s\u001b[0m eta \u001b[36m0:00:00\u001b[0m\n",
      "\u001b[2K   \u001b[90m━━━━━━━━━━━━━━━━━━━━━━━━━━━━━━━━━━━━━━━━\u001b[0m \u001b[32m73.2/73.2 kB\u001b[0m \u001b[31m5.2 MB/s\u001b[0m eta \u001b[36m0:00:00\u001b[0m\n",
      "\u001b[2K   \u001b[90m━━━━━━━━━━━━━━━━━━━━━━━━━━━━━━━━━━━━━━━━\u001b[0m \u001b[32m62.3/62.3 kB\u001b[0m \u001b[31m4.2 MB/s\u001b[0m eta \u001b[36m0:00:00\u001b[0m\n",
      "\u001b[2K   \u001b[90m━━━━━━━━━━━━━━━━━━━━━━━━━━━━━━━━━━━━━━━━\u001b[0m \u001b[32m58.3/58.3 kB\u001b[0m \u001b[31m3.4 MB/s\u001b[0m eta \u001b[36m0:00:00\u001b[0m\n",
      "\u001b[2K   \u001b[90m━━━━━━━━━━━━━━━━━━━━━━━━━━━━━━━━━━━━━━━━\u001b[0m \u001b[32m442.1/442.1 kB\u001b[0m \u001b[31m29.1 MB/s\u001b[0m eta \u001b[36m0:00:00\u001b[0m\n",
      "\u001b[2K   \u001b[90m━━━━━━━━━━━━━━━━━━━━━━━━━━━━━━━━━━━━━━━━\u001b[0m \u001b[32m3.8/3.8 MB\u001b[0m \u001b[31m85.6 MB/s\u001b[0m eta \u001b[36m0:00:00\u001b[0m:00:01\u001b[0m\n",
      "\u001b[2K   \u001b[90m━━━━━━━━━━━━━━━━━━━━━━━━━━━━━━━━━━━━━━━━\u001b[0m \u001b[32m443.8/443.8 kB\u001b[0m \u001b[31m26.3 MB/s\u001b[0m eta \u001b[36m0:00:00\u001b[0m\n",
      "\u001b[2K   \u001b[90m━━━━━━━━━━━━━━━━━━━━━━━━━━━━━━━━━━━━━━━━\u001b[0m \u001b[32m46.0/46.0 kB\u001b[0m \u001b[31m2.7 MB/s\u001b[0m eta \u001b[36m0:00:00\u001b[0m\n",
      "\u001b[2K   \u001b[90m━━━━━━━━━━━━━━━━━━━━━━━━━━━━━━━━━━━━━━━━\u001b[0m \u001b[32m86.8/86.8 kB\u001b[0m \u001b[31m5.5 MB/s\u001b[0m eta \u001b[36m0:00:00\u001b[0m\n",
      "\u001b[?25h  Building wheel for langdetect (setup.py) ... \u001b[?25l\u001b[?25hdone\n",
      "  Building wheel for pypika (pyproject.toml) ... \u001b[?25l\u001b[?25hdone\n",
      "\u001b[31mERROR: pip's dependency resolver does not currently take into account all the packages that are installed. This behaviour is the source of the following dependency conflicts.\n",
      "distributed 2024.8.0 requires dask==2024.8.0, but you have dask 2024.12.1 which is incompatible.\n",
      "ypy-websocket 0.8.4 requires aiofiles<23,>=22.1.0, but you have aiofiles 24.1.0 which is incompatible.\u001b[0m\u001b[31m\n",
      "\u001b[0m"
     ]
    }
   ],
   "source": [
    "!pip install -q langchain langchain_community langchain-google-genai langchain_experimental sentence-transformers langchain_chroma langchainhub unstructured"
   ]
  },
  {
   "cell_type": "code",
   "execution_count": 2,
   "metadata": {
    "execution": {
     "iopub.execute_input": "2024-12-26T19:46:49.038425Z",
     "iopub.status.busy": "2024-12-26T19:46:49.038124Z",
     "iopub.status.idle": "2024-12-26T19:46:50.111523Z",
     "shell.execute_reply": "2024-12-26T19:46:50.110875Z",
     "shell.execute_reply.started": "2024-12-26T19:46:49.038394Z"
    },
    "trusted": true
   },
   "outputs": [],
   "source": [
    "from langchain_community.document_loaders import PyPDFLoader\n",
    "\n",
    "loader = PyPDFLoader('/kaggle/input/avinash-resume/Avinash_Resume.pdf')\n",
    "data = loader.load()"
   ]
  },
  {
   "cell_type": "code",
   "execution_count": 3,
   "metadata": {
    "execution": {
     "iopub.execute_input": "2024-12-26T19:46:50.113348Z",
     "iopub.status.busy": "2024-12-26T19:46:50.112918Z",
     "iopub.status.idle": "2024-12-26T19:46:50.118992Z",
     "shell.execute_reply": "2024-12-26T19:46:50.118113Z",
     "shell.execute_reply.started": "2024-12-26T19:46:50.113319Z"
    },
    "trusted": true
   },
   "outputs": [
    {
     "data": {
      "text/plain": [
       "[Document(metadata={'source': '/kaggle/input/avinash-resume/Avinash_Resume.pdf', 'page': 0}, page_content='Avinash R\\n+91-9629149765 ravinash218@gmail.com LinkedIn GitHub Portfolio Hashnode\\nEducation\\nMepco Schlenk Engineering College\\nBachelor of Engineering (B.Eng) in Computer Science And Engineering (CSE) CGPA: 8.79\\nWork Experience\\nAugrade Bangalore\\nSoftware Engineer - Machine Learning Aug 2023 - Present\\n• Dreamspace: Geometric Graph Based Building Information Modeling System| Python, Git, IfcOpenShell\\n∗ Orchestrated the establishment of a system that processes architectural CAD files to output a comprehensive\\ngeometric graph based model of buildings.\\n∗ Engineered sophisticated algorithms to autonomously associate building systems, including structural and MEP\\n(mechanical, electrical, and plumbing) into a unified and fully functional model.\\n∗ Leveraged IfcOpenShell to create a Building Information Modeling (BIM) Industry Foundation Classes (IFC) file\\nfrom the geometric graph based system, incorporating complex relationships between building elements to enhance\\ndata accuracy and interoperability in BIM workflows.\\n• Dreamspace: Floor Plan Analysis and 3D Generation System| FastAPI, Git, ML, ONNX, JWT, Bpy, Postman\\n∗ Spearheaded the formation of an advanced system combining floor plan image and PDFs analysis with 3D model\\ngeneration, leveraging Machine Learning models, computer vision techniques, and 3D modeling processes to deliver\\nhighly accurate and visually appealing results.\\n∗ Exploited Bpy package capabilities and optimized algorithms for precise 3D mesh generation, particularly for\\ncomplex structures like staircases, ensuring adherence to engineering designs, maximizing space utilization, and\\nmeeting height standards.\\n∗ Designed and deployed a robust RESTful API with secure JSON Web Token (JWT) authentication to facilitate\\nseamless integration of 3D visuals generation, elevating user experience, workflow efficiency, and safeguarding\\nintellectual property.\\nSoftware Engineer Intern - Machine Learning May 2023 - Aug 2023\\n• Segmentation Models for Floor Plan Image Analysis| PyTorch, TensorFlow, AWS EC2, WandB, Git\\n∗ Engineered U-Net for wall segmentation and Mask R-CNN for furniture segmentation, achieving over 92% accuracy.\\n∗ Utilized automated mixed precision (AMP) to optimize training efficiency and enhance memory utilization by 12%.\\n∗ Employed early stopping and evaluated multiple loss functions to fine-tune training, optimizing performance and\\ndemonstrating advanced proficiency in model optimization skills.\\nAcademic Research\\nGenerator Denoiser Discriminator| PyTorch, Kaggle, WandB, Git Dec 2022 - Apr 2023\\n• Directed the innovative development of a novel GAN architecture variant, seamlessly integrating a denoiser to overcome\\nregeneration limitations inherent in (Deep Convolution Generative Adversarial Networks) DCGAN, marking a significant\\nadvancement in image generation technologies.\\n• Led rigorous evaluations, including emotion classification comparisons, to quantitatively measure the effectiveness of the\\nnovel GAN architecture, providing valuable insights into its performance and applicability across domains.\\n• Achieved a substantial increase in classification performance, raising the F1 score from 0.35 to 0.80 with the implemented\\nimage reconstruction methodology, highlighting proficiency in amplifying model efficacy.\\nProjects\\nOpen-Source Contributions| Python, ML, CUDA, Docker, Hugging Face, C++, C, Java\\n• Demonstrated proficiency in Heterogeneous Parallel Programming with a comprehensive repository, emphasizing\\nexpertise in parallel computing and optimization, and reflecting robust capabilities in high-performance computing and\\nGPU acceleration.\\n• Exhibited mastery in Machine Learning and Deep Learning through the AI Playground repository, highlighting expertise\\nin Generative Adversarial Networks, neural networks, and various domains, reflecting strong versatility in the field.\\n• Enriched the open-source community by publishing influential repositories spanning diverse topics such as Computational\\nIntelligence Concepts, Decision-Making Methods, Data Structure Concepts, Algorithms, Operating Systems Concepts,\\nCompiler Techniques, Computer Networks Concepts, showcasing a strong commitment to knowledge dissemination and\\ncollaborative problem-solving across multiple technical domains.\\nSkills\\nTechnical Skills: Machine Learning, Parallel Computing with CUDA, Deep Learning, LLM, MongoDB, CI/CD\\nLanguages : Python, C, C++, Java, SQL\\nFrameworks : Pytorch, Keras, Sci-Kit Learn, Flask, FastAPI, Hugging Face\\nTools : Git, AWS, GCP, Docker, VS Code, Jupyter Notebook, Postman, Kaggle Kernel, Google Colab, Spyder IDE,\\nSublime, PyCharm, NetBeans, WandB, Kubernetes, Blender\\nLibraries : IfcOpenShell, PyTorch, Tensorflow, Numpy, OpenCV, Bpy, Pandas, Keras, Sci-Kit Learn, Matplotlib, Plotly')]"
      ]
     },
     "execution_count": 3,
     "metadata": {},
     "output_type": "execute_result"
    }
   ],
   "source": [
    "data"
   ]
  },
  {
   "cell_type": "code",
   "execution_count": 6,
   "metadata": {
    "execution": {
     "iopub.execute_input": "2024-12-26T19:48:30.526606Z",
     "iopub.status.busy": "2024-12-26T19:48:30.526320Z",
     "iopub.status.idle": "2024-12-26T19:48:30.531613Z",
     "shell.execute_reply": "2024-12-26T19:48:30.530924Z",
     "shell.execute_reply.started": "2024-12-26T19:48:30.526584Z"
    },
    "trusted": true
   },
   "outputs": [
    {
     "name": "stdout",
     "output_type": "stream",
     "text": [
      "6\n"
     ]
    }
   ],
   "source": [
    "from langchain.text_splitter import RecursiveCharacterTextSplitter\n",
    "text_splitter = RecursiveCharacterTextSplitter(chunk_size=1000)\n",
    "docs = text_splitter.split_documents(data)\n",
    "\n",
    "print(len(docs))"
   ]
  },
  {
   "cell_type": "code",
   "execution_count": 7,
   "metadata": {
    "execution": {
     "iopub.execute_input": "2024-12-26T19:48:36.584427Z",
     "iopub.status.busy": "2024-12-26T19:48:36.584159Z",
     "iopub.status.idle": "2024-12-26T19:48:36.589731Z",
     "shell.execute_reply": "2024-12-26T19:48:36.588984Z",
     "shell.execute_reply.started": "2024-12-26T19:48:36.584404Z"
    },
    "trusted": true
   },
   "outputs": [
    {
     "data": {
      "text/plain": [
       "Document(metadata={'source': '/kaggle/input/avinash-resume/Avinash_Resume.pdf', 'page': 0}, page_content='Avinash R\\n+91-9629149765 ravinash218@gmail.com LinkedIn GitHub Portfolio Hashnode\\nEducation\\nMepco Schlenk Engineering College\\nBachelor of Engineering (B.Eng) in Computer Science And Engineering (CSE) CGPA: 8.79\\nWork Experience\\nAugrade Bangalore\\nSoftware Engineer - Machine Learning Aug 2023 - Present\\n• Dreamspace: Geometric Graph Based Building Information Modeling System| Python, Git, IfcOpenShell\\n∗ Orchestrated the establishment of a system that processes architectural CAD files to output a comprehensive\\ngeometric graph based model of buildings.\\n∗ Engineered sophisticated algorithms to autonomously associate building systems, including structural and MEP\\n(mechanical, electrical, and plumbing) into a unified and fully functional model.\\n∗ Leveraged IfcOpenShell to create a Building Information Modeling (BIM) Industry Foundation Classes (IFC) file\\nfrom the geometric graph based system, incorporating complex relationships between building elements to enhance')"
      ]
     },
     "execution_count": 7,
     "metadata": {},
     "output_type": "execute_result"
    }
   ],
   "source": [
    "docs[0]"
   ]
  },
  {
   "cell_type": "code",
   "execution_count": 8,
   "metadata": {
    "execution": {
     "iopub.execute_input": "2024-12-26T19:50:30.614905Z",
     "iopub.status.busy": "2024-12-26T19:50:30.614555Z",
     "iopub.status.idle": "2024-12-26T19:50:30.618628Z",
     "shell.execute_reply": "2024-12-26T19:50:30.617530Z",
     "shell.execute_reply.started": "2024-12-26T19:50:30.614879Z"
    },
    "trusted": true
   },
   "outputs": [],
   "source": [
    "import os\n",
    "GOOGLE_API_KEY = 'xxxxxxxxxxxxxxxxxx'\n",
    "os.environ['GOOGLE_API_KEY'] = GOOGLE_API_KEY"
   ]
  },
  {
   "cell_type": "code",
   "execution_count": 20,
   "metadata": {
    "execution": {
     "iopub.execute_input": "2024-12-26T19:57:32.362171Z",
     "iopub.status.busy": "2024-12-26T19:57:32.361882Z",
     "iopub.status.idle": "2024-12-26T19:57:32.366104Z",
     "shell.execute_reply": "2024-12-26T19:57:32.365102Z",
     "shell.execute_reply.started": "2024-12-26T19:57:32.362151Z"
    },
    "trusted": true
   },
   "outputs": [],
   "source": [
    "from langchain_chroma import Chroma\n",
    "from langchain_google_genai import GoogleGenerativeAIEmbeddings"
   ]
  },
  {
   "cell_type": "code",
   "execution_count": 22,
   "metadata": {
    "execution": {
     "iopub.execute_input": "2024-12-26T19:57:53.083879Z",
     "iopub.status.busy": "2024-12-26T19:57:53.083537Z",
     "iopub.status.idle": "2024-12-26T19:57:53.417633Z",
     "shell.execute_reply": "2024-12-26T19:57:53.416836Z",
     "shell.execute_reply.started": "2024-12-26T19:57:53.083850Z"
    },
    "trusted": true
   },
   "outputs": [
    {
     "data": {
      "text/plain": [
       "[0.05168594419956207,\n",
       " -0.030764883384108543,\n",
       " -0.03062233328819275,\n",
       " -0.02802734263241291,\n",
       " 0.01813093200325966]"
      ]
     },
     "execution_count": 22,
     "metadata": {},
     "output_type": "execute_result"
    }
   ],
   "source": [
    "embeddings = GoogleGenerativeAIEmbeddings(model='models/embedding-001')\n",
    "vector = embeddings.embed_query(\"hello, world!\")\n",
    "vector[:5]"
   ]
  },
  {
   "cell_type": "code",
   "execution_count": 23,
   "metadata": {
    "execution": {
     "iopub.execute_input": "2024-12-26T19:59:03.703532Z",
     "iopub.status.busy": "2024-12-26T19:59:03.703193Z",
     "iopub.status.idle": "2024-12-26T19:59:04.105225Z",
     "shell.execute_reply": "2024-12-26T19:59:04.104549Z",
     "shell.execute_reply.started": "2024-12-26T19:59:03.703501Z"
    },
    "trusted": true
   },
   "outputs": [],
   "source": [
    "vector_store = Chroma.from_documents(documents=docs, embedding=embeddings)"
   ]
  },
  {
   "cell_type": "code",
   "execution_count": 28,
   "metadata": {
    "execution": {
     "iopub.execute_input": "2024-12-26T20:00:25.158491Z",
     "iopub.status.busy": "2024-12-26T20:00:25.158111Z",
     "iopub.status.idle": "2024-12-26T20:00:25.162758Z",
     "shell.execute_reply": "2024-12-26T20:00:25.161714Z",
     "shell.execute_reply.started": "2024-12-26T20:00:25.158460Z"
    },
    "trusted": true
   },
   "outputs": [],
   "source": [
    "retriever = vector_store.as_retriever(search_type='similarity', search_kwargs={'k':3})"
   ]
  },
  {
   "cell_type": "code",
   "execution_count": 29,
   "metadata": {
    "execution": {
     "iopub.execute_input": "2024-12-26T20:00:25.318907Z",
     "iopub.status.busy": "2024-12-26T20:00:25.318604Z",
     "iopub.status.idle": "2024-12-26T20:00:25.525956Z",
     "shell.execute_reply": "2024-12-26T20:00:25.525112Z",
     "shell.execute_reply.started": "2024-12-26T20:00:25.318875Z"
    },
    "trusted": true
   },
   "outputs": [
    {
     "name": "stdout",
     "output_type": "stream",
     "text": [
      "3\n"
     ]
    }
   ],
   "source": [
    "retrieved_docs = retriever.invoke(\"Who is Avinash?\")\n",
    "print(len(retrieved_docs))"
   ]
  },
  {
   "cell_type": "code",
   "execution_count": 30,
   "metadata": {
    "execution": {
     "iopub.execute_input": "2024-12-26T20:00:34.030462Z",
     "iopub.status.busy": "2024-12-26T20:00:34.030152Z",
     "iopub.status.idle": "2024-12-26T20:00:34.035800Z",
     "shell.execute_reply": "2024-12-26T20:00:34.034850Z",
     "shell.execute_reply.started": "2024-12-26T20:00:34.030433Z"
    },
    "trusted": true
   },
   "outputs": [
    {
     "data": {
      "text/plain": [
       "[Document(metadata={'page': 0, 'source': '/kaggle/input/avinash-resume/Avinash_Resume.pdf'}, page_content='Avinash R\\n+91-9629149765 ravinash218@gmail.com LinkedIn GitHub Portfolio Hashnode\\nEducation\\nMepco Schlenk Engineering College\\nBachelor of Engineering (B.Eng) in Computer Science And Engineering (CSE) CGPA: 8.79\\nWork Experience\\nAugrade Bangalore\\nSoftware Engineer - Machine Learning Aug 2023 - Present\\n• Dreamspace: Geometric Graph Based Building Information Modeling System| Python, Git, IfcOpenShell\\n∗ Orchestrated the establishment of a system that processes architectural CAD files to output a comprehensive\\ngeometric graph based model of buildings.\\n∗ Engineered sophisticated algorithms to autonomously associate building systems, including structural and MEP\\n(mechanical, electrical, and plumbing) into a unified and fully functional model.\\n∗ Leveraged IfcOpenShell to create a Building Information Modeling (BIM) Industry Foundation Classes (IFC) file\\nfrom the geometric graph based system, incorporating complex relationships between building elements to enhance'),\n",
       " Document(metadata={'page': 0, 'source': '/kaggle/input/avinash-resume/Avinash_Resume.pdf'}, page_content='image reconstruction methodology, highlighting proficiency in amplifying model efficacy.\\nProjects\\nOpen-Source Contributions| Python, ML, CUDA, Docker, Hugging Face, C++, C, Java\\n• Demonstrated proficiency in Heterogeneous Parallel Programming with a comprehensive repository, emphasizing\\nexpertise in parallel computing and optimization, and reflecting robust capabilities in high-performance computing and\\nGPU acceleration.\\n• Exhibited mastery in Machine Learning and Deep Learning through the AI Playground repository, highlighting expertise\\nin Generative Adversarial Networks, neural networks, and various domains, reflecting strong versatility in the field.\\n• Enriched the open-source community by publishing influential repositories spanning diverse topics such as Computational\\nIntelligence Concepts, Decision-Making Methods, Data Structure Concepts, Algorithms, Operating Systems Concepts,'),\n",
       " Document(metadata={'page': 0, 'source': '/kaggle/input/avinash-resume/Avinash_Resume.pdf'}, page_content='demonstrating advanced proficiency in model optimization skills.\\nAcademic Research\\nGenerator Denoiser Discriminator| PyTorch, Kaggle, WandB, Git Dec 2022 - Apr 2023\\n• Directed the innovative development of a novel GAN architecture variant, seamlessly integrating a denoiser to overcome\\nregeneration limitations inherent in (Deep Convolution Generative Adversarial Networks) DCGAN, marking a significant\\nadvancement in image generation technologies.\\n• Led rigorous evaluations, including emotion classification comparisons, to quantitatively measure the effectiveness of the\\nnovel GAN architecture, providing valuable insights into its performance and applicability across domains.\\n• Achieved a substantial increase in classification performance, raising the F1 score from 0.35 to 0.80 with the implemented\\nimage reconstruction methodology, highlighting proficiency in amplifying model efficacy.\\nProjects\\nOpen-Source Contributions| Python, ML, CUDA, Docker, Hugging Face, C++, C, Java')]"
      ]
     },
     "execution_count": 30,
     "metadata": {},
     "output_type": "execute_result"
    }
   ],
   "source": [
    "retrieved_docs"
   ]
  },
  {
   "cell_type": "code",
   "execution_count": 31,
   "metadata": {
    "execution": {
     "iopub.execute_input": "2024-12-26T20:01:28.551283Z",
     "iopub.status.busy": "2024-12-26T20:01:28.550965Z",
     "iopub.status.idle": "2024-12-26T20:01:28.557929Z",
     "shell.execute_reply": "2024-12-26T20:01:28.557216Z",
     "shell.execute_reply.started": "2024-12-26T20:01:28.551255Z"
    },
    "trusted": true
   },
   "outputs": [],
   "source": [
    "from langchain_google_genai import ChatGoogleGenerativeAI\n",
    "\n",
    "llm = ChatGoogleGenerativeAI(model='gemini-1.5-pro', temperature=0.3, max_tokens=500)"
   ]
  },
  {
   "cell_type": "code",
   "execution_count": 32,
   "metadata": {
    "execution": {
     "iopub.execute_input": "2024-12-26T20:03:09.960513Z",
     "iopub.status.busy": "2024-12-26T20:03:09.960200Z",
     "iopub.status.idle": "2024-12-26T20:03:10.014344Z",
     "shell.execute_reply": "2024-12-26T20:03:10.013462Z",
     "shell.execute_reply.started": "2024-12-26T20:03:09.960488Z"
    },
    "trusted": true
   },
   "outputs": [],
   "source": [
    "from langchain.chains import create_retrieval_chain\n",
    "from langchain.chains.combine_documents import create_stuff_documents_chain\n",
    "from langchain_core.prompts import ChatPromptTemplate\n",
    "\n",
    "system_prompt = (\n",
    "    \"You are an assistant for question-answering tasks. \"\n",
    "    \"Use the following pieces of retrieved context to answer \"\n",
    "    \"the question. If you don't know the answer, say that you \"\n",
    "    \"don't know. Use three sentences maximum and keep the \"\n",
    "    \"answer concise.\"\n",
    "    \"\\n\\n\"\n",
    "    \"{context}\"\n",
    ")\n",
    "\n",
    "prompt = ChatPromptTemplate.from_messages(\n",
    "    [\n",
    "        (\"system\", system_prompt),\n",
    "        (\"human\", \"{input}\"),\n",
    "    ]\n",
    ")"
   ]
  },
  {
   "cell_type": "code",
   "execution_count": 33,
   "metadata": {
    "execution": {
     "iopub.execute_input": "2024-12-26T20:04:13.496781Z",
     "iopub.status.busy": "2024-12-26T20:04:13.496430Z",
     "iopub.status.idle": "2024-12-26T20:04:13.504389Z",
     "shell.execute_reply": "2024-12-26T20:04:13.503366Z",
     "shell.execute_reply.started": "2024-12-26T20:04:13.496734Z"
    },
    "trusted": true
   },
   "outputs": [],
   "source": [
    "question_answer_chain = create_stuff_documents_chain(llm, prompt)\n",
    "rag_chain = create_retrieval_chain(retriever, question_answer_chain)"
   ]
  },
  {
   "cell_type": "code",
   "execution_count": 34,
   "metadata": {
    "execution": {
     "iopub.execute_input": "2024-12-26T20:04:53.800744Z",
     "iopub.status.busy": "2024-12-26T20:04:53.800444Z",
     "iopub.status.idle": "2024-12-26T20:04:56.429206Z",
     "shell.execute_reply": "2024-12-26T20:04:56.428439Z",
     "shell.execute_reply.started": "2024-12-26T20:04:53.800719Z"
    },
    "trusted": true
   },
   "outputs": [
    {
     "name": "stdout",
     "output_type": "stream",
     "text": [
      "Avinash R is a Software Engineer at Augrade in Bangalore, specializing in Machine Learning.  He holds a B.Eng in Computer Science and Engineering from Mepco Schlenk Engineering College, graduating with a CGPA of 8.79.  His experience includes developing a geometric graph-based building information modeling system and contributing to various open-source projects involving machine learning, deep learning, and parallel computing.\n",
      "\n"
     ]
    }
   ],
   "source": [
    "query='Who is Avinash?'\n",
    "response = rag_chain.invoke({\"input\":query})\n",
    "print(response['answer'])"
   ]
  },
  {
   "cell_type": "code",
   "execution_count": 35,
   "metadata": {
    "execution": {
     "iopub.execute_input": "2024-12-26T20:05:15.440680Z",
     "iopub.status.busy": "2024-12-26T20:05:15.440368Z",
     "iopub.status.idle": "2024-12-26T20:05:17.301184Z",
     "shell.execute_reply": "2024-12-26T20:05:17.300445Z",
     "shell.execute_reply.started": "2024-12-26T20:05:15.440655Z"
    },
    "trusted": true
   },
   "outputs": [
    {
     "name": "stdout",
     "output_type": "stream",
     "text": [
      "You can contact Avinash R by phone at +91-9629149765 or by email at ravinash218@gmail.com.  He also has a LinkedIn profile and GitHub and Hashnode portfolios, though the links are not provided.\n",
      "\n"
     ]
    }
   ],
   "source": [
    "query='How to contact Avinash?'\n",
    "response = rag_chain.invoke({\"input\":query})\n",
    "print(response['answer'])"
   ]
  },
  {
   "cell_type": "code",
   "execution_count": 39,
   "metadata": {
    "execution": {
     "iopub.execute_input": "2024-12-26T20:06:16.921798Z",
     "iopub.status.busy": "2024-12-26T20:06:16.921450Z",
     "iopub.status.idle": "2024-12-26T20:06:19.317488Z",
     "shell.execute_reply": "2024-12-26T20:06:19.316737Z",
     "shell.execute_reply.started": "2024-12-26T20:06:16.921738Z"
    },
    "trusted": true
   },
   "outputs": [
    {
     "name": "stdout",
     "output_type": "stream",
     "text": [
      "Avinash's technical skills include machine learning, parallel computing with CUDA, deep learning, LLMs, MongoDB, and CI/CD.  He is proficient in Python, C, C++, Java, and SQL, and utilizes frameworks like Pytorch, Keras, Sci-Kit Learn, Flask, and FastAPI.  He also has experience with various tools, including Git, AWS, GCP, Docker, and VS Code.\n",
      "\n"
     ]
    }
   ],
   "source": [
    "query=\"What is Avinash's skillset?\"\n",
    "response = rag_chain.invoke({\"input\":query})\n",
    "print(response['answer'])"
   ]
  },
  {
   "cell_type": "code",
   "execution_count": 40,
   "metadata": {
    "execution": {
     "iopub.execute_input": "2024-12-26T20:06:49.529151Z",
     "iopub.status.busy": "2024-12-26T20:06:49.528855Z",
     "iopub.status.idle": "2024-12-26T20:06:50.934561Z",
     "shell.execute_reply": "2024-12-26T20:06:50.933875Z",
     "shell.execute_reply.started": "2024-12-26T20:06:49.529127Z"
    },
    "trusted": true
   },
   "outputs": [
    {
     "name": "stdout",
     "output_type": "stream",
     "text": [
      "Avinash is a Software Engineer - Machine Learning. He currently works at Augrade in Bangalore.  He previously worked at Intelligence Concepts, but his role there is not specified.\n",
      "\n"
     ]
    }
   ],
   "source": [
    "query=\"What is Avinash's role and what are the companies in which he worked / working?\"\n",
    "response = rag_chain.invoke({\"input\":query})\n",
    "print(response['answer'])"
   ]
  },
  {
   "cell_type": "code",
   "execution_count": 41,
   "metadata": {
    "execution": {
     "iopub.execute_input": "2024-12-26T20:07:17.090625Z",
     "iopub.status.busy": "2024-12-26T20:07:17.090322Z",
     "iopub.status.idle": "2024-12-26T20:07:19.195106Z",
     "shell.execute_reply": "2024-12-26T20:07:19.194301Z",
     "shell.execute_reply.started": "2024-12-26T20:07:17.090603Z"
    },
    "trusted": true
   },
   "outputs": [
    {
     "name": "stdout",
     "output_type": "stream",
     "text": [
      "Avinash has made several open-source contributions spanning diverse topics.  These include projects focused on Heterogeneous Parallel Programming, Machine Learning/Deep Learning (including Generative Adversarial Networks), and fundamental Computer Science concepts like Data Structures, Algorithms, and Operating Systems.  His contributions highlight expertise in parallel computing, GPU acceleration, and various machine learning domains.\n",
      "\n"
     ]
    }
   ],
   "source": [
    "query=\"Tell me about Avinash's open source contributions\"\n",
    "response = rag_chain.invoke({\"input\":query})\n",
    "print(response['answer'])"
   ]
  },
  {
   "cell_type": "code",
   "execution_count": 42,
   "metadata": {
    "execution": {
     "iopub.execute_input": "2024-12-26T20:07:47.488714Z",
     "iopub.status.busy": "2024-12-26T20:07:47.488421Z",
     "iopub.status.idle": "2024-12-26T20:07:49.312056Z",
     "shell.execute_reply": "2024-12-26T20:07:49.311327Z",
     "shell.execute_reply.started": "2024-12-26T20:07:47.488691Z"
    },
    "trusted": true
   },
   "outputs": [
    {
     "name": "stdout",
     "output_type": "stream",
     "text": [
      "Yes, Avinash lists Parallel Computing with CUDA and CI/CD as technical skills.  His projects also mention CUDA and Docker, which is commonly used in CI/CD pipelines. He also has experience with Git, AWS, GCP, and Kubernetes, which are relevant to CI/CD.\n",
      "\n"
     ]
    }
   ],
   "source": [
    "query=\"Does Avinash's familiar with CUDA programming and CI CD pipelines?\"\n",
    "response = rag_chain.invoke({\"input\":query})\n",
    "print(response['answer'])"
   ]
  },
  {
   "cell_type": "code",
   "execution_count": 45,
   "metadata": {
    "execution": {
     "iopub.execute_input": "2024-12-26T20:10:07.035399Z",
     "iopub.status.busy": "2024-12-26T20:10:07.035093Z",
     "iopub.status.idle": "2024-12-26T20:10:08.895967Z",
     "shell.execute_reply": "2024-12-26T20:10:08.895247Z",
     "shell.execute_reply.started": "2024-12-26T20:10:07.035377Z"
    },
    "trusted": true
   },
   "outputs": [
    {
     "name": "stdout",
     "output_type": "stream",
     "text": [
      "Based on his recent experience at Augrade, he has experience building geometric graph-based BIM systems, using relevant tools like IfcOpenShell and Python.  His internship also involved image segmentation using PyTorch and TensorFlow, achieving high accuracy.  Therefore, he appears qualified for a machine learning engineering role.\n",
      "\n"
     ]
    }
   ],
   "source": [
    "query=\"What would you suggest whether I should recruit him as Machine learning Engineer? Answer this based on his most recent experience\"\n",
    "response = rag_chain.invoke({\"input\":query})\n",
    "print(response['answer'])"
   ]
  },
  {
   "cell_type": "code",
   "execution_count": 47,
   "metadata": {
    "execution": {
     "iopub.execute_input": "2024-12-26T20:11:34.109843Z",
     "iopub.status.busy": "2024-12-26T20:11:34.109511Z",
     "iopub.status.idle": "2024-12-26T20:11:36.115046Z",
     "shell.execute_reply": "2024-12-26T20:11:36.114321Z",
     "shell.execute_reply.started": "2024-12-26T20:11:34.109812Z"
    },
    "trusted": true
   },
   "outputs": [
    {
     "name": "stdout",
     "output_type": "stream",
     "text": [
      "Avinash's resume focuses on software engineering and BIM, with limited specific machine learning project details beyond \"AI Playground.\"  The resume lacks quantifiable achievements or metrics demonstrating successful ML model development and deployment.  Therefore, it's unclear if Avinash possesses the required depth of experience for a dedicated Machine Learning Engineer role.\n",
      "\n"
     ]
    }
   ],
   "source": [
    "query=\"Give me reasons why I should not recruit Avinash for Machine Learning Engineer position?\"\n",
    "response = rag_chain.invoke({\"input\":query})\n",
    "print(response['answer'])"
   ]
  },
  {
   "cell_type": "code",
   "execution_count": 48,
   "metadata": {
    "execution": {
     "iopub.execute_input": "2024-12-26T20:12:47.748590Z",
     "iopub.status.busy": "2024-12-26T20:12:47.748287Z",
     "iopub.status.idle": "2024-12-26T20:12:49.747650Z",
     "shell.execute_reply": "2024-12-26T20:12:49.746881Z",
     "shell.execute_reply.started": "2024-12-26T20:12:47.748566Z"
    },
    "trusted": true
   },
   "outputs": [
    {
     "name": "stdout",
     "output_type": "stream",
     "text": [
      "Avinash has a solid foundation in machine learning and related tools.  He could deepen his expertise by focusing on advanced topics like reinforcement learning, distributed computing frameworks (e.g., Spark), and MLOps.  Contributing to more complex open-source projects and gaining experience with large-scale datasets would also enhance his profile.\n",
      "\n"
     ]
    }
   ],
   "source": [
    "query=\"Based on the resume contents, How can Avinash increase his technical skills to get one of the best job in Machine Learning. How should he equip himself?\"\n",
    "response = rag_chain.invoke({\"input\":query})\n",
    "print(response['answer'])"
   ]
  },
  {
   "cell_type": "code",
   "execution_count": 53,
   "metadata": {
    "execution": {
     "iopub.execute_input": "2024-12-26T20:14:32.839883Z",
     "iopub.status.busy": "2024-12-26T20:14:32.839534Z",
     "iopub.status.idle": "2024-12-26T20:14:34.328918Z",
     "shell.execute_reply": "2024-12-26T20:14:34.328055Z",
     "shell.execute_reply.started": "2024-12-26T20:14:32.839853Z"
    },
    "trusted": true
   },
   "outputs": [
    {
     "name": "stdout",
     "output_type": "stream",
     "text": [
      "* Machine Learning\n",
      "* Deep Learning\n",
      "* LLM\n",
      "* Pytorch\n",
      "* Keras\n",
      "* Sci-Kit Learn\n",
      "* Tensorflow\n",
      "* Generative Adversarial Networks (GANs)\n",
      "\n"
     ]
    }
   ],
   "source": [
    "query=\"List names of technology that convey Avinash's skills in Machine Learning and AI. Give in bulletin\"\n",
    "response = rag_chain.invoke({\"input\":query})\n",
    "print(response['answer'])"
   ]
  },
  {
   "cell_type": "code",
   "execution_count": null,
   "metadata": {
    "trusted": true
   },
   "outputs": [],
   "source": []
  }
 ],
 "metadata": {
  "kaggle": {
   "accelerator": "gpu",
   "dataSources": [
    {
     "datasetId": 6379840,
     "sourceId": 10306309,
     "sourceType": "datasetVersion"
    }
   ],
   "dockerImageVersionId": 30823,
   "isGpuEnabled": true,
   "isInternetEnabled": true,
   "language": "python",
   "sourceType": "notebook"
  },
  "kernelspec": {
   "display_name": "Python 3",
   "language": "python",
   "name": "python3"
  },
  "language_info": {
   "codemirror_mode": {
    "name": "ipython",
    "version": 3
   },
   "file_extension": ".py",
   "mimetype": "text/x-python",
   "name": "python",
   "nbconvert_exporter": "python",
   "pygments_lexer": "ipython3",
   "version": "3.10.12"
  }
 },
 "nbformat": 4,
 "nbformat_minor": 4
}
